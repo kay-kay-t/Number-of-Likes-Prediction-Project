{
  "nbformat": 4,
  "nbformat_minor": 0,
  "metadata": {
    "colab": {
      "name": "Project2_Video Content Prediction.ipynb",
      "provenance": [],
      "mount_file_id": "16LvlHkxhc6yxT06E1PLQR3sZB6XxcS2q",
      "authorship_tag": "ABX9TyOqnf8Hlu33yKtvvGPrrpH5",
      "include_colab_link": true
    },
    "kernelspec": {
      "name": "python3",
      "display_name": "Python 3"
    },
    "language_info": {
      "name": "python"
    }
  },
  "cells": [
    {
      "cell_type": "markdown",
      "metadata": {
        "id": "view-in-github",
        "colab_type": "text"
      },
      "source": [
        "<a href=\"https://colab.research.google.com/github/kay-kay-t/Number-of-Likes-Prediction-Project/blob/main/Project2_Video_Content_Prediction.ipynb\" target=\"_parent\"><img src=\"https://colab.research.google.com/assets/colab-badge.svg\" alt=\"Open In Colab\"/></a>"
      ]
    },
    {
      "cell_type": "markdown",
      "metadata": {
        "id": "WiJgnitZEbav"
      },
      "source": [
        "# Source of data\n",
        "[Kaggle](https://www.kaggle.com/prokaggler/video-popularity-prediction)\n",
        "\n",
        "# Brief description of data\n",
        "\n",
        "One of datasets from Kaggle, that has different features of video. I can make some predictions on different features based on other features video has. For exaple, I can make  prediction on how many likes video can get or how likely it will have a partner.\n",
        "\n",
        "* compid: Unique ID \n",
        "* adblocked: Indicates whether or not ads are blocked on the video\n",
        "* embed: Indicates whether or not the video can be embedded\n",
        "* ratio: The aspect ratio of the video\n",
        "* duration: Duration of the video (in seconds)\n",
        "* language: Language used in the video (encoded)\n",
        "* partner: Indicates whether the video is certified by the partner/sponsor\n",
        "* partneractive: Indicates whether the partner/sponsor is still active \n",
        "* nlikes: The number of likes the video has\n",
        "* ntags: The number of tags in the video nformats: The number of streaming \n",
        "* formats available for the video\n",
        "* dayofweek: The day of week when the video was published\n",
        "* hour: The hour when the video was published (24-hour time format)"
      ]
    },
    {
      "cell_type": "code",
      "metadata": {
        "id": "5Xjh4TWxA38E"
      },
      "source": [
        "# Imports \n",
        "import matplotlib.pyplot as plt\n",
        "import seaborn as sns\n",
        "import pandas as pd\n",
        "import numpy as np\n",
        "from sklearn.model_selection import train_test_split\n",
        "from sklearn.preprocessing import StandardScaler\n",
        "from sklearn.pipeline import make_pipeline\n",
        "from sklearn.linear_model import LogisticRegression\n",
        "from sklearn.neighbors import KNeighborsClassifier\n",
        "from sklearn.ensemble import BaggingClassifier, RandomForestClassifier\n",
        "from sklearn.model_selection import RandomizedSearchCV\n",
        "from sklearn.model_selection import GridSearchCV\n",
        "from sklearn.cluster import KMeans, AgglomerativeClustering, DBSCAN\n",
        "from sklearn.metrics import silhouette_score"
      ],
      "execution_count": 60,
      "outputs": []
    },
    {
      "cell_type": "markdown",
      "metadata": {
        "id": "FwkTzyRKImag"
      },
      "source": [
        "## Part 1: Data cleaning & exploration"
      ]
    },
    {
      "cell_type": "code",
      "metadata": {
        "colab": {
          "base_uri": "https://localhost:8080/",
          "height": 203
        },
        "id": "C_zuqUMhEOhJ",
        "outputId": "6126410d-0a69-466c-f396-0b7794a7cb94"
      },
      "source": [
        "# Load data \n",
        "df = pd.read_csv('/content/drive/MyDrive/Data/public_meta_df.csv')\n",
        "df.head()"
      ],
      "execution_count": 61,
      "outputs": [
        {
          "output_type": "execute_result",
          "data": {
            "text/html": [
              "<div>\n",
              "<style scoped>\n",
              "    .dataframe tbody tr th:only-of-type {\n",
              "        vertical-align: middle;\n",
              "    }\n",
              "\n",
              "    .dataframe tbody tr th {\n",
              "        vertical-align: top;\n",
              "    }\n",
              "\n",
              "    .dataframe thead th {\n",
              "        text-align: right;\n",
              "    }\n",
              "</style>\n",
              "<table border=\"1\" class=\"dataframe\">\n",
              "  <thead>\n",
              "    <tr style=\"text-align: right;\">\n",
              "      <th></th>\n",
              "      <th>comp_id</th>\n",
              "      <th>ad_blocked</th>\n",
              "      <th>embed</th>\n",
              "      <th>ratio</th>\n",
              "      <th>duration</th>\n",
              "      <th>language</th>\n",
              "      <th>partner</th>\n",
              "      <th>partner_active</th>\n",
              "      <th>n_likes</th>\n",
              "      <th>n_tags</th>\n",
              "      <th>n_formats</th>\n",
              "      <th>dayofweek</th>\n",
              "      <th>hour</th>\n",
              "    </tr>\n",
              "  </thead>\n",
              "  <tbody>\n",
              "    <tr>\n",
              "      <th>0</th>\n",
              "      <td>3001</td>\n",
              "      <td>False</td>\n",
              "      <td>True</td>\n",
              "      <td>1.33333</td>\n",
              "      <td>1675</td>\n",
              "      <td>2</td>\n",
              "      <td>False</td>\n",
              "      <td>False</td>\n",
              "      <td>0</td>\n",
              "      <td>10</td>\n",
              "      <td>2</td>\n",
              "      <td>2</td>\n",
              "      <td>3</td>\n",
              "    </tr>\n",
              "    <tr>\n",
              "      <th>1</th>\n",
              "      <td>3002</td>\n",
              "      <td>False</td>\n",
              "      <td>True</td>\n",
              "      <td>1.33333</td>\n",
              "      <td>1479</td>\n",
              "      <td>2</td>\n",
              "      <td>False</td>\n",
              "      <td>False</td>\n",
              "      <td>0</td>\n",
              "      <td>10</td>\n",
              "      <td>2</td>\n",
              "      <td>2</td>\n",
              "      <td>3</td>\n",
              "    </tr>\n",
              "    <tr>\n",
              "      <th>2</th>\n",
              "      <td>3003</td>\n",
              "      <td>False</td>\n",
              "      <td>True</td>\n",
              "      <td>1.33333</td>\n",
              "      <td>1505</td>\n",
              "      <td>2</td>\n",
              "      <td>False</td>\n",
              "      <td>False</td>\n",
              "      <td>0</td>\n",
              "      <td>10</td>\n",
              "      <td>2</td>\n",
              "      <td>2</td>\n",
              "      <td>3</td>\n",
              "    </tr>\n",
              "    <tr>\n",
              "      <th>3</th>\n",
              "      <td>3004</td>\n",
              "      <td>False</td>\n",
              "      <td>True</td>\n",
              "      <td>1.77778</td>\n",
              "      <td>50</td>\n",
              "      <td>2</td>\n",
              "      <td>True</td>\n",
              "      <td>True</td>\n",
              "      <td>1</td>\n",
              "      <td>6</td>\n",
              "      <td>5</td>\n",
              "      <td>2</td>\n",
              "      <td>3</td>\n",
              "    </tr>\n",
              "    <tr>\n",
              "      <th>4</th>\n",
              "      <td>3005</td>\n",
              "      <td>False</td>\n",
              "      <td>True</td>\n",
              "      <td>1.33333</td>\n",
              "      <td>1543</td>\n",
              "      <td>2</td>\n",
              "      <td>False</td>\n",
              "      <td>False</td>\n",
              "      <td>0</td>\n",
              "      <td>6</td>\n",
              "      <td>2</td>\n",
              "      <td>2</td>\n",
              "      <td>3</td>\n",
              "    </tr>\n",
              "  </tbody>\n",
              "</table>\n",
              "</div>"
            ],
            "text/plain": [
              "   comp_id  ad_blocked  embed    ratio  ...  n_tags  n_formats  dayofweek  hour\n",
              "0     3001       False   True  1.33333  ...      10          2          2     3\n",
              "1     3002       False   True  1.33333  ...      10          2          2     3\n",
              "2     3003       False   True  1.33333  ...      10          2          2     3\n",
              "3     3004       False   True  1.77778  ...       6          5          2     3\n",
              "4     3005       False   True  1.33333  ...       6          2          2     3\n",
              "\n",
              "[5 rows x 13 columns]"
            ]
          },
          "metadata": {},
          "execution_count": 61
        }
      ]
    },
    {
      "cell_type": "code",
      "metadata": {
        "colab": {
          "base_uri": "https://localhost:8080/"
        },
        "id": "HRza-ySfEX9h",
        "outputId": "1b2c6102-2582-4413-cf95-690fcb046aee"
      },
      "source": [
        "df.info()"
      ],
      "execution_count": 62,
      "outputs": [
        {
          "output_type": "stream",
          "name": "stdout",
          "text": [
            "<class 'pandas.core.frame.DataFrame'>\n",
            "RangeIndex: 986 entries, 0 to 985\n",
            "Data columns (total 13 columns):\n",
            " #   Column          Non-Null Count  Dtype  \n",
            "---  ------          --------------  -----  \n",
            " 0   comp_id         986 non-null    int64  \n",
            " 1   ad_blocked      986 non-null    bool   \n",
            " 2   embed           986 non-null    bool   \n",
            " 3   ratio           986 non-null    float64\n",
            " 4   duration        986 non-null    int64  \n",
            " 5   language        986 non-null    int64  \n",
            " 6   partner         986 non-null    bool   \n",
            " 7   partner_active  986 non-null    bool   \n",
            " 8   n_likes         986 non-null    int64  \n",
            " 9   n_tags          986 non-null    int64  \n",
            " 10  n_formats       986 non-null    int64  \n",
            " 11  dayofweek       986 non-null    int64  \n",
            " 12  hour            986 non-null    int64  \n",
            "dtypes: bool(4), float64(1), int64(8)\n",
            "memory usage: 73.3 KB\n"
          ]
        }
      ]
    },
    {
      "cell_type": "code",
      "metadata": {
        "colab": {
          "base_uri": "https://localhost:8080/"
        },
        "id": "IUlyzisxGonf",
        "outputId": "b308ae7a-9345-467a-a29f-2c3cd178a9fe"
      },
      "source": [
        "df.shape"
      ],
      "execution_count": 63,
      "outputs": [
        {
          "output_type": "execute_result",
          "data": {
            "text/plain": [
              "(986, 13)"
            ]
          },
          "metadata": {},
          "execution_count": 63
        }
      ]
    },
    {
      "cell_type": "code",
      "metadata": {
        "colab": {
          "base_uri": "https://localhost:8080/"
        },
        "id": "Bib0Mg2I07LZ",
        "outputId": "e2ab9894-1ceb-4661-e15d-49d3d9476a47"
      },
      "source": [
        "# Checking if there any duplicates\n",
        "df.duplicated().any()"
      ],
      "execution_count": 64,
      "outputs": [
        {
          "output_type": "execute_result",
          "data": {
            "text/plain": [
              "False"
            ]
          },
          "metadata": {},
          "execution_count": 64
        }
      ]
    },
    {
      "cell_type": "code",
      "metadata": {
        "colab": {
          "base_uri": "https://localhost:8080/"
        },
        "id": "uZxTf3p82236",
        "outputId": "fac4aca0-239c-407d-87d4-8fd3c8de73cb"
      },
      "source": [
        "# Checking for missing values\n",
        "df.isnull().sum()"
      ],
      "execution_count": 65,
      "outputs": [
        {
          "output_type": "execute_result",
          "data": {
            "text/plain": [
              "comp_id           0\n",
              "ad_blocked        0\n",
              "embed             0\n",
              "ratio             0\n",
              "duration          0\n",
              "language          0\n",
              "partner           0\n",
              "partner_active    0\n",
              "n_likes           0\n",
              "n_tags            0\n",
              "n_formats         0\n",
              "dayofweek         0\n",
              "hour              0\n",
              "dtype: int64"
            ]
          },
          "metadata": {},
          "execution_count": 65
        }
      ]
    },
    {
      "cell_type": "code",
      "metadata": {
        "colab": {
          "base_uri": "https://localhost:8080/"
        },
        "id": "T-xEYHlQ3AcZ",
        "outputId": "4076bec2-ade5-452c-8c0f-55530cfe893a"
      },
      "source": [
        "# Using for loop to check all data frame for inconsistent values\n",
        "for col in df.columns:\n",
        "    print(df[col].value_counts())"
      ],
      "execution_count": 66,
      "outputs": [
        {
          "output_type": "stream",
          "name": "stdout",
          "text": [
            "3986    1\n",
            "3339    1\n",
            "3337    1\n",
            "3336    1\n",
            "3335    1\n",
            "       ..\n",
            "3653    1\n",
            "3652    1\n",
            "3651    1\n",
            "3650    1\n",
            "3001    1\n",
            "Name: comp_id, Length: 986, dtype: int64\n",
            "False    986\n",
            "Name: ad_blocked, dtype: int64\n",
            "True     952\n",
            "False     34\n",
            "Name: embed, dtype: int64\n",
            "1.77778    399\n",
            "1.33333    300\n",
            "1.72414     57\n",
            "1.76471     37\n",
            "1.22222     31\n",
            "1.76667     29\n",
            "1.25000     16\n",
            "2.28571     14\n",
            "1.48148     11\n",
            "1.73913      9\n",
            "1.48837      9\n",
            "1.77273      7\n",
            "1.80000      7\n",
            "1.76000      6\n",
            "1.81818      6\n",
            "1.60000      6\n",
            "1.73077      4\n",
            "2.46154      4\n",
            "1.50000      4\n",
            "2.35294      3\n",
            "1.46667      3\n",
            "1.00000      2\n",
            "1.52381      2\n",
            "1.34091      2\n",
            "1.35714      2\n",
            "1.79412      2\n",
            "1.74194      1\n",
            "1.34783      1\n",
            "1.31667      1\n",
            "1.72973      1\n",
            "1.31579      1\n",
            "1.78261      1\n",
            "1.30769      1\n",
            "1.78571      1\n",
            "1.18889      1\n",
            "1.45455      1\n",
            "1.75000      1\n",
            "1.51111      1\n",
            "1.30000      1\n",
            "1.34483      1\n",
            "Name: ratio, dtype: int64\n",
            "2343    13\n",
            "2342    10\n",
            "44       8\n",
            "86       8\n",
            "41       8\n",
            "        ..\n",
            "485      1\n",
            "486      1\n",
            "1511     1\n",
            "488      1\n",
            "1039     1\n",
            "Name: duration, Length: 562, dtype: int64\n",
            "2     819\n",
            "3      98\n",
            "4      25\n",
            "5      19\n",
            "7      12\n",
            "10      8\n",
            "9       2\n",
            "8       2\n",
            "1       1\n",
            "Name: language, dtype: int64\n",
            "False    749\n",
            "True     237\n",
            "Name: partner, dtype: int64\n",
            "False    842\n",
            "True     144\n",
            "Name: partner_active, dtype: int64\n",
            "0    921\n",
            "1     47\n",
            "2     12\n",
            "3      5\n",
            "6      1\n",
            "Name: n_likes, dtype: int64\n",
            "0     287\n",
            "10    138\n",
            "2      87\n",
            "4      76\n",
            "5      73\n",
            "3      69\n",
            "1      60\n",
            "7      53\n",
            "6      49\n",
            "9      40\n",
            "8      39\n",
            "11      6\n",
            "13      4\n",
            "12      2\n",
            "18      1\n",
            "14      1\n",
            "27      1\n",
            "Name: n_tags, dtype: int64\n",
            "2    336\n",
            "3    309\n",
            "4    274\n",
            "5     62\n",
            "1      4\n",
            "0      1\n",
            "Name: n_formats, dtype: int64\n",
            "1    414\n",
            "6    379\n",
            "7    115\n",
            "2     78\n",
            "Name: dayofweek, dtype: int64\n",
            "18    86\n",
            "19    85\n",
            "17    74\n",
            "1     69\n",
            "22    67\n",
            "20    60\n",
            "21    55\n",
            "14    47\n",
            "15    44\n",
            "13    44\n",
            "23    40\n",
            "16    37\n",
            "2     35\n",
            "10    33\n",
            "6     30\n",
            "9     30\n",
            "5     30\n",
            "0     27\n",
            "7     24\n",
            "3     24\n",
            "11    19\n",
            "12    12\n",
            "4     10\n",
            "8      4\n",
            "Name: hour, dtype: int64\n"
          ]
        }
      ]
    },
    {
      "cell_type": "code",
      "metadata": {
        "colab": {
          "base_uri": "https://localhost:8080/"
        },
        "id": "x0skcNP24MAu",
        "outputId": "6bdbcee2-7bbc-42ae-bf1d-3219e8e3fafb"
      },
      "source": [
        "# Looks likie we can drop ad_blocked as well since they are all False, so it would not have any impact on likes\n",
        "df['ad_blocked'].value_counts()"
      ],
      "execution_count": 67,
      "outputs": [
        {
          "output_type": "execute_result",
          "data": {
            "text/plain": [
              "False    986\n",
              "Name: ad_blocked, dtype: int64"
            ]
          },
          "metadata": {},
          "execution_count": 67
        }
      ]
    },
    {
      "cell_type": "code",
      "metadata": {
        "colab": {
          "base_uri": "https://localhost:8080/",
          "height": 203
        },
        "id": "05rTgaPP3LO1",
        "outputId": "421ce84d-a32b-4ef3-802a-20bfb7cf6f9c"
      },
      "source": [
        "# I think we can drop partner_active column as well\n",
        "df.drop(columns=['partner_active', 'ad_blocked'], inplace=True)\n",
        "df.head()"
      ],
      "execution_count": 68,
      "outputs": [
        {
          "output_type": "execute_result",
          "data": {
            "text/html": [
              "<div>\n",
              "<style scoped>\n",
              "    .dataframe tbody tr th:only-of-type {\n",
              "        vertical-align: middle;\n",
              "    }\n",
              "\n",
              "    .dataframe tbody tr th {\n",
              "        vertical-align: top;\n",
              "    }\n",
              "\n",
              "    .dataframe thead th {\n",
              "        text-align: right;\n",
              "    }\n",
              "</style>\n",
              "<table border=\"1\" class=\"dataframe\">\n",
              "  <thead>\n",
              "    <tr style=\"text-align: right;\">\n",
              "      <th></th>\n",
              "      <th>comp_id</th>\n",
              "      <th>embed</th>\n",
              "      <th>ratio</th>\n",
              "      <th>duration</th>\n",
              "      <th>language</th>\n",
              "      <th>partner</th>\n",
              "      <th>n_likes</th>\n",
              "      <th>n_tags</th>\n",
              "      <th>n_formats</th>\n",
              "      <th>dayofweek</th>\n",
              "      <th>hour</th>\n",
              "    </tr>\n",
              "  </thead>\n",
              "  <tbody>\n",
              "    <tr>\n",
              "      <th>0</th>\n",
              "      <td>3001</td>\n",
              "      <td>True</td>\n",
              "      <td>1.33333</td>\n",
              "      <td>1675</td>\n",
              "      <td>2</td>\n",
              "      <td>False</td>\n",
              "      <td>0</td>\n",
              "      <td>10</td>\n",
              "      <td>2</td>\n",
              "      <td>2</td>\n",
              "      <td>3</td>\n",
              "    </tr>\n",
              "    <tr>\n",
              "      <th>1</th>\n",
              "      <td>3002</td>\n",
              "      <td>True</td>\n",
              "      <td>1.33333</td>\n",
              "      <td>1479</td>\n",
              "      <td>2</td>\n",
              "      <td>False</td>\n",
              "      <td>0</td>\n",
              "      <td>10</td>\n",
              "      <td>2</td>\n",
              "      <td>2</td>\n",
              "      <td>3</td>\n",
              "    </tr>\n",
              "    <tr>\n",
              "      <th>2</th>\n",
              "      <td>3003</td>\n",
              "      <td>True</td>\n",
              "      <td>1.33333</td>\n",
              "      <td>1505</td>\n",
              "      <td>2</td>\n",
              "      <td>False</td>\n",
              "      <td>0</td>\n",
              "      <td>10</td>\n",
              "      <td>2</td>\n",
              "      <td>2</td>\n",
              "      <td>3</td>\n",
              "    </tr>\n",
              "    <tr>\n",
              "      <th>3</th>\n",
              "      <td>3004</td>\n",
              "      <td>True</td>\n",
              "      <td>1.77778</td>\n",
              "      <td>50</td>\n",
              "      <td>2</td>\n",
              "      <td>True</td>\n",
              "      <td>1</td>\n",
              "      <td>6</td>\n",
              "      <td>5</td>\n",
              "      <td>2</td>\n",
              "      <td>3</td>\n",
              "    </tr>\n",
              "    <tr>\n",
              "      <th>4</th>\n",
              "      <td>3005</td>\n",
              "      <td>True</td>\n",
              "      <td>1.33333</td>\n",
              "      <td>1543</td>\n",
              "      <td>2</td>\n",
              "      <td>False</td>\n",
              "      <td>0</td>\n",
              "      <td>6</td>\n",
              "      <td>2</td>\n",
              "      <td>2</td>\n",
              "      <td>3</td>\n",
              "    </tr>\n",
              "  </tbody>\n",
              "</table>\n",
              "</div>"
            ],
            "text/plain": [
              "   comp_id  embed    ratio  duration  ...  n_tags  n_formats  dayofweek  hour\n",
              "0     3001   True  1.33333      1675  ...      10          2          2     3\n",
              "1     3002   True  1.33333      1479  ...      10          2          2     3\n",
              "2     3003   True  1.33333      1505  ...      10          2          2     3\n",
              "3     3004   True  1.77778        50  ...       6          5          2     3\n",
              "4     3005   True  1.33333      1543  ...       6          2          2     3\n",
              "\n",
              "[5 rows x 11 columns]"
            ]
          },
          "metadata": {},
          "execution_count": 68
        }
      ]
    },
    {
      "cell_type": "markdown",
      "metadata": {
        "id": "EE7moAvfmMK9"
      },
      "source": [
        "I am going to set number of likes as my target. Let's see thedestribution of likes."
      ]
    },
    {
      "cell_type": "code",
      "metadata": {
        "colab": {
          "base_uri": "https://localhost:8080/"
        },
        "id": "SGwyoQljIDrY",
        "outputId": "5a06e1d7-6cb2-4ad9-80b8-fca2c3d26426"
      },
      "source": [
        "df['n_likes'].value_counts()"
      ],
      "execution_count": 69,
      "outputs": [
        {
          "output_type": "execute_result",
          "data": {
            "text/plain": [
              "0    921\n",
              "1     47\n",
              "2     12\n",
              "3      5\n",
              "6      1\n",
              "Name: n_likes, dtype: int64"
            ]
          },
          "metadata": {},
          "execution_count": 69
        }
      ]
    },
    {
      "cell_type": "code",
      "metadata": {
        "colab": {
          "base_uri": "https://localhost:8080/",
          "height": 1000
        },
        "id": "daHt2znrki04",
        "outputId": "f16cc3a1-2503-45be-ede2-9a7a9765549b"
      },
      "source": [
        "# Histogram that shows Number of Likes Distidution\n",
        "sns.countplot(data=df, x='n_likes',\n",
        "              palette='afmhot_r');\n",
        "  \n",
        "\n",
        "plt.xlabel('Number of likes', fontsize=20)\n",
        "plt.ylabel('Count', fontsize=20)\n",
        "plt.title('Likes number Distribution', fontsize=20)\n",
        "\n",
        "\n",
        "ax=plt.gca()\n",
        "\n",
        "for p in ax.patches:\n",
        "  ax.text(p.get_x()+p.get_width()/2, p.get_height(), '%d' % int(p.get_height()), ha='center', va='bottom', fontsize=15)\n",
        "\n",
        "plt.show()\n",
        "print('This histogram shows that videos with no likes are highly overbalance the other ones with any amount of likes.')\n"
      ],
      "execution_count": 70,
      "outputs": [
        {
          "output_type": "display_data",
          "data": {
            "image/png": "[encoded data removed]",
            "text/plain": [
              "<Figure size 1080x1440 with 1 Axes>"
            ]
          },
          "metadata": {}
        },
        {
          "output_type": "stream",
          "name": "stdout",
          "text": [
            "This histogram shows that videos with no likes are highly overbalance the other ones with any amount of likes.\n"
          ]
        }
      ]
    },
    {
      "cell_type": "markdown",
      "metadata": {
        "id": "WiEhpA3Vg4Tj"
      },
      "source": [
        "Based on visualization above it makes sense grouping videos by the ones that have 0 likes and the ones with any likes, since there's a big amount of first ones to the second ones. We can see what videos are unpopuloar comparing to the ones that got some interaction and how other fetures affectiong likes."
      ]
    },
    {
      "cell_type": "code",
      "metadata": {
        "colab": {
          "base_uri": "https://localhost:8080/"
        },
        "id": "mXSOJPhjiL86",
        "outputId": "a32e7d10-800b-4020-9830-4217638c4c48"
      },
      "source": [
        "df['n_likes'].value_counts()"
      ],
      "execution_count": 71,
      "outputs": [
        {
          "output_type": "execute_result",
          "data": {
            "text/plain": [
              "0    921\n",
              "1     47\n",
              "2     12\n",
              "3      5\n",
              "6      1\n",
              "Name: n_likes, dtype: int64"
            ]
          },
          "metadata": {},
          "execution_count": 71
        }
      ]
    },
    {
      "cell_type": "code",
      "metadata": {
        "colab": {
          "base_uri": "https://localhost:8080/",
          "height": 203
        },
        "id": "c4qtEdeo5Q5T",
        "outputId": "2e5cd5f3-7f52-4c14-fbf2-c0c0efb6890a"
      },
      "source": [
        "# Binarize target column \n",
        "df['n_likes'] = df['n_likes'].replace([2, 3, 6], 1)\n",
        "df.head()"
      ],
      "execution_count": 72,
      "outputs": [
        {
          "output_type": "execute_result",
          "data": {
            "text/html": [
              "<div>\n",
              "<style scoped>\n",
              "    .dataframe tbody tr th:only-of-type {\n",
              "        vertical-align: middle;\n",
              "    }\n",
              "\n",
              "    .dataframe tbody tr th {\n",
              "        vertical-align: top;\n",
              "    }\n",
              "\n",
              "    .dataframe thead th {\n",
              "        text-align: right;\n",
              "    }\n",
              "</style>\n",
              "<table border=\"1\" class=\"dataframe\">\n",
              "  <thead>\n",
              "    <tr style=\"text-align: right;\">\n",
              "      <th></th>\n",
              "      <th>comp_id</th>\n",
              "      <th>embed</th>\n",
              "      <th>ratio</th>\n",
              "      <th>duration</th>\n",
              "      <th>language</th>\n",
              "      <th>partner</th>\n",
              "      <th>n_likes</th>\n",
              "      <th>n_tags</th>\n",
              "      <th>n_formats</th>\n",
              "      <th>dayofweek</th>\n",
              "      <th>hour</th>\n",
              "    </tr>\n",
              "  </thead>\n",
              "  <tbody>\n",
              "    <tr>\n",
              "      <th>0</th>\n",
              "      <td>3001</td>\n",
              "      <td>True</td>\n",
              "      <td>1.33333</td>\n",
              "      <td>1675</td>\n",
              "      <td>2</td>\n",
              "      <td>False</td>\n",
              "      <td>0</td>\n",
              "      <td>10</td>\n",
              "      <td>2</td>\n",
              "      <td>2</td>\n",
              "      <td>3</td>\n",
              "    </tr>\n",
              "    <tr>\n",
              "      <th>1</th>\n",
              "      <td>3002</td>\n",
              "      <td>True</td>\n",
              "      <td>1.33333</td>\n",
              "      <td>1479</td>\n",
              "      <td>2</td>\n",
              "      <td>False</td>\n",
              "      <td>0</td>\n",
              "      <td>10</td>\n",
              "      <td>2</td>\n",
              "      <td>2</td>\n",
              "      <td>3</td>\n",
              "    </tr>\n",
              "    <tr>\n",
              "      <th>2</th>\n",
              "      <td>3003</td>\n",
              "      <td>True</td>\n",
              "      <td>1.33333</td>\n",
              "      <td>1505</td>\n",
              "      <td>2</td>\n",
              "      <td>False</td>\n",
              "      <td>0</td>\n",
              "      <td>10</td>\n",
              "      <td>2</td>\n",
              "      <td>2</td>\n",
              "      <td>3</td>\n",
              "    </tr>\n",
              "    <tr>\n",
              "      <th>3</th>\n",
              "      <td>3004</td>\n",
              "      <td>True</td>\n",
              "      <td>1.77778</td>\n",
              "      <td>50</td>\n",
              "      <td>2</td>\n",
              "      <td>True</td>\n",
              "      <td>1</td>\n",
              "      <td>6</td>\n",
              "      <td>5</td>\n",
              "      <td>2</td>\n",
              "      <td>3</td>\n",
              "    </tr>\n",
              "    <tr>\n",
              "      <th>4</th>\n",
              "      <td>3005</td>\n",
              "      <td>True</td>\n",
              "      <td>1.33333</td>\n",
              "      <td>1543</td>\n",
              "      <td>2</td>\n",
              "      <td>False</td>\n",
              "      <td>0</td>\n",
              "      <td>6</td>\n",
              "      <td>2</td>\n",
              "      <td>2</td>\n",
              "      <td>3</td>\n",
              "    </tr>\n",
              "  </tbody>\n",
              "</table>\n",
              "</div>"
            ],
            "text/plain": [
              "   comp_id  embed    ratio  duration  ...  n_tags  n_formats  dayofweek  hour\n",
              "0     3001   True  1.33333      1675  ...      10          2          2     3\n",
              "1     3002   True  1.33333      1479  ...      10          2          2     3\n",
              "2     3003   True  1.33333      1505  ...      10          2          2     3\n",
              "3     3004   True  1.77778        50  ...       6          5          2     3\n",
              "4     3005   True  1.33333      1543  ...       6          2          2     3\n",
              "\n",
              "[5 rows x 11 columns]"
            ]
          },
          "metadata": {},
          "execution_count": 72
        }
      ]
    },
    {
      "cell_type": "markdown",
      "metadata": {
        "id": "7NFBHPNksMJH"
      },
      "source": [
        "Now we can see how other features affect number of likes. First, lets see how an hour of video being posted affect the likes, since usually there's higher level of engagement at certain times."
      ]
    },
    {
      "cell_type": "code",
      "metadata": {
        "colab": {
          "base_uri": "https://localhost:8080/",
          "height": 592
        },
        "id": "p7GjtpXosdJY",
        "outputId": "7b558134-7f0f-419d-f491-1ab40127ecc6"
      },
      "source": [
        "# Creating countplot with Seaborn to see how hour affect number of likes\n",
        "\n",
        "\n",
        "sns.set(rc={'figure.figsize':(22,8), 'axes.facecolor':'white'})\n",
        "sns.countplot('hour', hue='n_likes', data=df,\n",
        "              palette='afmhot_r');\n",
        "\n",
        "plt.title('Video posting time affect on Number of Likes', fontsize = 25)  \n",
        "\n",
        "plt.xticks(fontsize = 15)\n",
        "plt.yticks(fontsize = 15)\n",
        "\n",
        "plt.xlabel('Hour', fontsize=20)\n",
        "plt.ylabel('Count', fontsize=20)\n",
        "\n",
        "plt.legend(fontsize=20)\n",
        "\n",
        "plt.grid(color = 'green', linestyle = '--', linewidth = 0.5)\n",
        "\n",
        "# Creating labels (from https://www.youtube.com/watch?v=NIy90kwN4n4)\n",
        "# ax=plt.gca()\n",
        "\n",
        "# for p in ax.patches:\n",
        "#   ax.text(p.get_x()+p.get_width()/2, p.get_height(), '%d' % int(p.get_height()), ha='center', va='bottom', fontsize=15)\n",
        "\n",
        "plt.show()  "
      ],
      "execution_count": 73,
      "outputs": [
        {
          "output_type": "stream",
          "name": "stderr",
          "text": [
            "/usr/local/lib/python3.7/dist-packages/seaborn/_decorators.py:43: FutureWarning: Pass the following variable as a keyword arg: x. From version 0.12, the only valid positional argument will be `data`, and passing other arguments without an explicit keyword will result in an error or misinterpretation.\n",
            "  FutureWarning\n"
          ]
        },
        {
          "output_type": "display_data",
          "data": {
            "image/png": "[encoded data removed]",
            "text/plain": [
              "<Figure size 1584x576 with 1 Axes>"
            ]
          },
          "metadata": {}
        }
      ]
    },
    {
      "cell_type": "markdown",
      "metadata": {
        "id": "m4-pBfg5y74z"
      },
      "source": [
        "Per visualization above, we see that video has more chances on getting 0 likes at 1 am and between 5 & 7 pm. The highes amount of likes video gets between 3 and 4 pm. "
      ]
    },
    {
      "cell_type": "markdown",
      "metadata": {
        "id": "61Ia6dF04GBC"
      },
      "source": [
        ""
      ]
    },
    {
      "cell_type": "code",
      "metadata": {
        "colab": {
          "base_uri": "https://localhost:8080/",
          "height": 537
        },
        "id": "sOr2p8mQ4E7V",
        "outputId": "98d7d6bb-831a-4671-f78e-baed0f3e7d94"
      },
      "source": [
        "# Number of likes depemding on Duration of the video \n",
        "sns.set_style(\"whitegrid\")\n",
        "drt = df.groupby('n_likes')['duration'].mean().reset_index(name = 'Avg Duration').sort_values('Avg Duration', ascending = False)\n",
        "plt.plot(drt['Avg Duration'], drt['n_likes'], linewidth=2);\n",
        "\n",
        "plt.grid(axis='both', color='r', linestyle='--', linewidth=1, alpha=0.5)\n",
        "\n",
        "plt.xlabel('Avg Duration')\n",
        "plt.ylabel('Number of likes')\n",
        "plt.title('Likes based on Video Duration', fontsize=15)"
      ],
      "execution_count": 74,
      "outputs": [
        {
          "output_type": "execute_result",
          "data": {
            "text/plain": [
              "Text(0.5, 1.0, 'Likes based on Video Duration')"
            ]
          },
          "metadata": {},
          "execution_count": 74
        },
        {
          "output_type": "display_data",
          "data": {
            "image/png": "[encoded data removed]",
            "text/plain": [
              "<Figure size 1584x576 with 1 Axes>"
            ]
          },
          "metadata": {}
        }
      ]
    },
    {
      "cell_type": "markdown",
      "metadata": {
        "id": "NX6wcvoA6Yp4"
      },
      "source": [
        "This graph shows that amount of likes dropping with growth of video duration, therefore the longer the video the less lkies it gets."
      ]
    },
    {
      "cell_type": "markdown",
      "metadata": {
        "id": "ECTCAj4_8oZP"
      },
      "source": [
        "How, we can see how Day of the Week affect Number of Likes."
      ]
    },
    {
      "cell_type": "code",
      "metadata": {
        "colab": {
          "base_uri": "https://localhost:8080/",
          "height": 142
        },
        "id": "P8bs31zC78XG",
        "outputId": "d75985c9-36c8-467e-f9b5-11d95e3b7fbe"
      },
      "source": [
        " # Grouping by dayofweek and likes\n",
        " dof =(\n",
        "    df\n",
        " .groupby('n_likes')\n",
        " .dayofweek\n",
        " .value_counts()\n",
        " .unstack()\n",
        " .fillna(0)\n",
        " )\n",
        "dof"
      ],
      "execution_count": 75,
      "outputs": [
        {
          "output_type": "execute_result",
          "data": {
            "text/html": [
              "<div>\n",
              "<style scoped>\n",
              "    .dataframe tbody tr th:only-of-type {\n",
              "        vertical-align: middle;\n",
              "    }\n",
              "\n",
              "    .dataframe tbody tr th {\n",
              "        vertical-align: top;\n",
              "    }\n",
              "\n",
              "    .dataframe thead th {\n",
              "        text-align: right;\n",
              "    }\n",
              "</style>\n",
              "<table border=\"1\" class=\"dataframe\">\n",
              "  <thead>\n",
              "    <tr style=\"text-align: right;\">\n",
              "      <th>dayofweek</th>\n",
              "      <th>1</th>\n",
              "      <th>2</th>\n",
              "      <th>6</th>\n",
              "      <th>7</th>\n",
              "    </tr>\n",
              "    <tr>\n",
              "      <th>n_likes</th>\n",
              "      <th></th>\n",
              "      <th></th>\n",
              "      <th></th>\n",
              "      <th></th>\n",
              "    </tr>\n",
              "  </thead>\n",
              "  <tbody>\n",
              "    <tr>\n",
              "      <th>0</th>\n",
              "      <td>397</td>\n",
              "      <td>75</td>\n",
              "      <td>342</td>\n",
              "      <td>107</td>\n",
              "    </tr>\n",
              "    <tr>\n",
              "      <th>1</th>\n",
              "      <td>17</td>\n",
              "      <td>3</td>\n",
              "      <td>37</td>\n",
              "      <td>8</td>\n",
              "    </tr>\n",
              "  </tbody>\n",
              "</table>\n",
              "</div>"
            ],
            "text/plain": [
              "dayofweek    1   2    6    7\n",
              "n_likes                     \n",
              "0          397  75  342  107\n",
              "1           17   3   37    8"
            ]
          },
          "metadata": {},
          "execution_count": 75
        }
      ]
    },
    {
      "cell_type": "code",
      "metadata": {
        "colab": {
          "base_uri": "https://localhost:8080/",
          "height": 528
        },
        "id": "2IFNHdn672Hu",
        "outputId": "88ca95fe-70e1-482c-d0b4-11d083f56d2a"
      },
      "source": [
        "sns.heatmap(dof, \n",
        "            cmap='afmhot_r', \n",
        "            annot=True, \n",
        "            fmt='.0f',\n",
        "            annot_kws={\n",
        "                'fontsize':20\n",
        "            });\n",
        "         \n",
        "\n",
        "plt.title('Number of Likes Tendency based on Day of the week', color='#ed881c', fontsize = 20)  \n",
        "plt.xlabel('Day of the Week', color='#ed881c', fontsize=18)\n",
        "plt.ylabel('Nunber of Likes', color='#ed881c', fontsize=18)\n",
        "\n",
        "plt.show()            \n"
      ],
      "execution_count": 76,
      "outputs": [
        {
          "output_type": "display_data",
          "data": {
            "image/png": "[encoded data removed]",
            "text/plain": [
              "<Figure size 1584x576 with 2 Axes>"
            ]
          },
          "metadata": {}
        }
      ]
    },
    {
      "cell_type": "markdown",
      "metadata": {
        "id": "qjQxupmv91zZ"
      },
      "source": [
        "Based on this heatmap, videos have more chances on receiving 0 likes on 1st day of the week (Sunday) and 6th day (Friday), however there's high chance on getting likes on 6th day as well."
      ]
    },
    {
      "cell_type": "code",
      "metadata": {
        "colab": {
          "base_uri": "https://localhost:8080/",
          "height": 537
        },
        "id": "ABxSKN5BBV14",
        "outputId": "2ace5729-7b66-44ea-b56f-729533b7c03f"
      },
      "source": [
        "# Number of likes depemding on Duration of the video \n",
        "sns.set_style(\"whitegrid\")\n",
        "rat = df.groupby('n_likes')['ratio'].mean().reset_index(name = 'Avg Ratio').sort_values('Avg Ratio', ascending = False)\n",
        "plt.plot(rat['Avg Ratio'], rat['n_likes'], linewidth=2);\n",
        "\n",
        "plt.grid(axis='both', color='r', linestyle='--', linewidth=1, alpha=0.5)\n",
        "\n",
        "plt.xlabel('Avg Ratio')\n",
        "plt.ylabel('Number of likes')\n",
        "plt.title('Likes based on Video Ratio', fontsize=15)"
      ],
      "execution_count": 77,
      "outputs": [
        {
          "output_type": "execute_result",
          "data": {
            "text/plain": [
              "Text(0.5, 1.0, 'Likes based on Video Ratio')"
            ]
          },
          "metadata": {},
          "execution_count": 77
        },
        {
          "output_type": "display_data",
          "data": {
            "image/png": "[encoded data removed]",
            "text/plain": [
              "<Figure size 1584x576 with 1 Axes>"
            ]
          },
          "metadata": {}
        }
      ]
    },
    {
      "cell_type": "markdown",
      "metadata": {
        "id": "T1Y1Eb1uCyEj"
      },
      "source": [
        "This graph shows that number of likes drops with ratio growth."
      ]
    },
    {
      "cell_type": "markdown",
      "metadata": {
        "id": "tT4DR8ZEDgc-"
      },
      "source": [
        "Now I'm going to binarize all colums, so I can use different models on them and also see the correlation in dataset."
      ]
    },
    {
      "cell_type": "code",
      "metadata": {
        "colab": {
          "base_uri": "https://localhost:8080/"
        },
        "id": "5SVWeHSI-R9R",
        "outputId": "731ce53c-c9d7-48dd-a800-caa7d2705247"
      },
      "source": [
        "# Binarize other bool values in columns\n",
        "a = df['embed'].astype(int)\n",
        "b = df['partner'].astype(int)\n",
        "df['embed'] = a\n",
        "df['partner'] = b\n",
        "df.info()"
      ],
      "execution_count": 78,
      "outputs": [
        {
          "output_type": "stream",
          "name": "stdout",
          "text": [
            "<class 'pandas.core.frame.DataFrame'>\n",
            "RangeIndex: 986 entries, 0 to 985\n",
            "Data columns (total 11 columns):\n",
            " #   Column     Non-Null Count  Dtype  \n",
            "---  ------     --------------  -----  \n",
            " 0   comp_id    986 non-null    int64  \n",
            " 1   embed      986 non-null    int64  \n",
            " 2   ratio      986 non-null    float64\n",
            " 3   duration   986 non-null    int64  \n",
            " 4   language   986 non-null    int64  \n",
            " 5   partner    986 non-null    int64  \n",
            " 6   n_likes    986 non-null    int64  \n",
            " 7   n_tags     986 non-null    int64  \n",
            " 8   n_formats  986 non-null    int64  \n",
            " 9   dayofweek  986 non-null    int64  \n",
            " 10  hour       986 non-null    int64  \n",
            "dtypes: float64(1), int64(10)\n",
            "memory usage: 84.9 KB\n"
          ]
        }
      ]
    },
    {
      "cell_type": "code",
      "metadata": {
        "colab": {
          "base_uri": "https://localhost:8080/",
          "height": 616
        },
        "id": "zOBSgJK6JVNL",
        "outputId": "afa01b70-ba0b-49d2-f204-400c37eb0762"
      },
      "source": [
        "# Heatmap showing correlations \n",
        "fig, ax = plt.subplots(figsize=(15,10))\n",
        "sns.heatmap(df.corr(), cmap = 'afmhot_r', annot=True, fmt='.02f', ax=ax)"
      ],
      "execution_count": 79,
      "outputs": [
        {
          "output_type": "execute_result",
          "data": {
            "text/plain": [
              "<matplotlib.axes._subplots.AxesSubplot at 0x7f12807bbe50>"
            ]
          },
          "metadata": {},
          "execution_count": 79
        },
        {
          "output_type": "display_data",
          "data": {
            "image/png": "[encoded data removed]",
            "text/plain": [
              "<Figure size 1080x720 with 2 Axes>"
            ]
          },
          "metadata": {}
        }
      ]
    },
    {
      "cell_type": "markdown",
      "metadata": {
        "id": "4fKInoSUOlbp"
      },
      "source": [
        "This heatmap shows that number of tags and day of the week has the most impact on number of likes."
      ]
    },
    {
      "cell_type": "code",
      "metadata": {
        "id": "d9_YndKP-DE8"
      },
      "source": [
        "# sns.pairplot(df, palette='afmhot_r')\n",
        " \n",
        " "
      ],
      "execution_count": 80,
      "outputs": []
    },
    {
      "cell_type": "code",
      "metadata": {
        "colab": {
          "base_uri": "https://localhost:8080/",
          "height": 381
        },
        "id": "kyfMyE4ucybq",
        "outputId": "cf5d1a2e-1ee1-4483-fbf7-abc6c0f0346f"
      },
      "source": [
        "sns.set(rc={'figure.figsize':(15,20)})\n",
        "sns.catplot(x = 'n_likes', y = 'n_tags', data = df,\n",
        "                palette=\"afmhot_r\")\n",
        "sns.set_style(\"whitegrid\")\n",
        "\n",
        "\n",
        "plt.xlabel('Number of Likes')\n",
        "plt.ylabel('Number of Tags')\n",
        "plt.title('Number of Likes depending on Tags');\n",
        "\n",
        "\n",
        "plt.show()"
      ],
      "execution_count": 81,
      "outputs": [
        {
          "output_type": "display_data",
          "data": {
            "image/png": "[encoded data removed]",
            "text/plain": [
              "<Figure size 360x360 with 1 Axes>"
            ]
          },
          "metadata": {}
        }
      ]
    },
    {
      "cell_type": "markdown",
      "metadata": {
        "id": "wWOKMY-wiqCl"
      },
      "source": [
        "Per this visualization, most of values are concentrated between 0 and 10 tags. There’s some with 18 Tags and more then 25, which are probably outliers."
      ]
    },
    {
      "cell_type": "markdown",
      "metadata": {
        "id": "7pGrBaDCYH_8"
      },
      "source": [
        "## Part 2. Machine Learning"
      ]
    },
    {
      "cell_type": "markdown",
      "metadata": {
        "id": "no3rjtoUdCIH"
      },
      "source": [
        "**Logistic Regression**"
      ]
    },
    {
      "cell_type": "code",
      "metadata": {
        "id": "HDgjGwiOu2Db"
      },
      "source": [
        "# Settung target and features\n",
        "y = df['n_likes']\n",
        "X = df.drop(columns = 'n_likes')"
      ],
      "execution_count": 82,
      "outputs": []
    },
    {
      "cell_type": "code",
      "metadata": {
        "id": "f4sPo0BvzAzo"
      },
      "source": [
        "# Train test split\n",
        "X_train, X_test, y_train, y_test = train_test_split(X, y, random_state = 42, stratify = y)"
      ],
      "execution_count": 83,
      "outputs": []
    },
    {
      "cell_type": "code",
      "metadata": {
        "id": "qp-dt3YqvutU"
      },
      "source": [
        "# Make an instance of the model\n",
        "logreg = LogisticRegression(C = 1)"
      ],
      "execution_count": 84,
      "outputs": []
    },
    {
      "cell_type": "code",
      "metadata": {
        "colab": {
          "base_uri": "https://localhost:8080/"
        },
        "id": "O2JinaQf0FTk",
        "outputId": "0bf21b04-8541-48fb-c8dc-4891687f4b23"
      },
      "source": [
        "# Scaling logistic regression\n",
        "scaler = StandardScaler()\n",
        "\n",
        "scaler.fit(X_train)\n",
        "# Apply transform to both the training set and the test set.\n",
        "X_train = scaler.transform(X_train)\n",
        "X_test = scaler.transform(X_test)\n",
        "\n",
        "# Training the model on the data\n",
        "logreg.fit(X_train,y_train)"
      ],
      "execution_count": 85,
      "outputs": [
        {
          "output_type": "execute_result",
          "data": {
            "text/plain": [
              "LogisticRegression(C=1, class_weight=None, dual=False, fit_intercept=True,\n",
              "                   intercept_scaling=1, l1_ratio=None, max_iter=100,\n",
              "                   multi_class='auto', n_jobs=None, penalty='l2',\n",
              "                   random_state=None, solver='lbfgs', tol=0.0001, verbose=0,\n",
              "                   warm_start=False)"
            ]
          },
          "metadata": {},
          "execution_count": 85
        }
      ]
    },
    {
      "cell_type": "code",
      "metadata": {
        "colab": {
          "base_uri": "https://localhost:8080/"
        },
        "id": "DROzVBVMji0L",
        "outputId": "6e8aedc0-8db7-48ae-ff1b-ce1b6eb07454"
      },
      "source": [
        "# Checking the scores\n",
        "print('Training accuracy:', logreg.score(X_train, y_train))\n",
        "print('Test accuracy:', logreg.score(X_test, y_test))"
      ],
      "execution_count": 86,
      "outputs": [
        {
          "output_type": "stream",
          "name": "stdout",
          "text": [
            "Training accuracy: 0.9336941813261164\n",
            "Test accuracy: 0.9352226720647774\n"
          ]
        }
      ]
    },
    {
      "cell_type": "markdown",
      "metadata": {
        "id": "Wj2PXLr1tue-"
      },
      "source": [
        "Logistic Regression gives pretty good scores with minimum overfitting. I will try to tune some params next to see if it's going to improve the scores."
      ]
    },
    {
      "cell_type": "code",
      "metadata": {
        "id": "FD82QiUwkGv6"
      },
      "source": [
        "# Creating a dictionar with all params we'd like to tune\n",
        "logreg_params = {'penalty' : ['l1', 'l2'],\n",
        "                 'C' : [1, 25, 50, 100],\n",
        "                 'solver' : ['newton-cg', 'lbfgs', 'liblinear', 'sag', 'saga'],\n",
        "                 'multi_class' : ['ovr', 'multinomial']}"
      ],
      "execution_count": 87,
      "outputs": []
    },
    {
      "cell_type": "code",
      "metadata": {
        "id": "YPWSHdRIoXCo"
      },
      "source": [
        "# Instantiate a gridsearch with the model and dict\n",
        "grid = GridSearchCV(logreg, param_grid = logreg_params)\n",
        "# Fitting the grid search model\n",
        "grid.fit(X_train, y_train)"
      ],
      "execution_count": null,
      "outputs": []
    },
    {
      "cell_type": "code",
      "metadata": {
        "colab": {
          "base_uri": "https://localhost:8080/"
        },
        "id": "fgkmlet8raL6",
        "outputId": "dc69c808-612c-469c-882c-731c650efe15"
      },
      "source": [
        "# Check the optimal combinations of hyperparameters\n",
        "grid.best_params_"
      ],
      "execution_count": 89,
      "outputs": [
        {
          "output_type": "execute_result",
          "data": {
            "text/plain": [
              "{'C': 1, 'multi_class': 'ovr', 'penalty': 'l1', 'solver': 'liblinear'}"
            ]
          },
          "metadata": {},
          "execution_count": 89
        }
      ]
    },
    {
      "cell_type": "code",
      "metadata": {
        "colab": {
          "base_uri": "https://localhost:8080/"
        },
        "id": "s8fjF2y9dzAl",
        "outputId": "dc8a6cd4-3043-41c2-c12f-151a77ad6092"
      },
      "source": [
        "# Trying model with tuned params\n",
        "logreg_tuned = LogisticRegression(C=1, multi_class='ovr', penalty='l1', solver='liblinear')\n",
        "\n",
        "# Training the model \n",
        "logreg_tuned.fit(X_train,y_train)"
      ],
      "execution_count": 90,
      "outputs": [
        {
          "output_type": "execute_result",
          "data": {
            "text/plain": [
              "LogisticRegression(C=1, class_weight=None, dual=False, fit_intercept=True,\n",
              "                   intercept_scaling=1, l1_ratio=None, max_iter=100,\n",
              "                   multi_class='ovr', n_jobs=None, penalty='l1',\n",
              "                   random_state=None, solver='liblinear', tol=0.0001, verbose=0,\n",
              "                   warm_start=False)"
            ]
          },
          "metadata": {},
          "execution_count": 90
        }
      ]
    },
    {
      "cell_type": "code",
      "metadata": {
        "colab": {
          "base_uri": "https://localhost:8080/"
        },
        "id": "85imbqlXeXZl",
        "outputId": "c2fe1480-4b86-45f5-bfb0-443dc4654a96"
      },
      "source": [
        "# Checking the scores\n",
        "print('Training accuracy:', logreg_tuned.score(X_train, y_train))\n",
        "print('Test accuracy:', logreg_tuned.score(X_test, y_test))"
      ],
      "execution_count": 91,
      "outputs": [
        {
          "output_type": "stream",
          "name": "stdout",
          "text": [
            "Training accuracy: 0.9336941813261164\n",
            "Test accuracy: 0.9352226720647774\n"
          ]
        }
      ]
    },
    {
      "cell_type": "markdown",
      "metadata": {
        "id": "G6CF-0rtuhiF"
      },
      "source": [
        "So tunning the model didn't really change thee scores, therefore we can use just default params then."
      ]
    },
    {
      "cell_type": "markdown",
      "metadata": {
        "id": "2GMikFz4dwLE"
      },
      "source": [
        "**KNN**"
      ]
    },
    {
      "cell_type": "code",
      "metadata": {
        "colab": {
          "base_uri": "https://localhost:8080/"
        },
        "id": "B_IYiZ-8iUaZ",
        "outputId": "2c24ba1e-738c-44c4-ad82-f46b4a9f0530"
      },
      "source": [
        "# KNN\n",
        "knn = KNeighborsClassifier()\n",
        "\n",
        "pipe_knn = make_pipeline(scaler, knn)\n",
        "\n",
        "pipe_knn.fit(X_train, y_train)\n",
        "\n",
        "print('Training accuracy:', pipe_knn.score(X_train, y_train))\n",
        "print('Test accuracy:', pipe_knn.score(X_test, y_test))"
      ],
      "execution_count": 92,
      "outputs": [
        {
          "output_type": "stream",
          "name": "stdout",
          "text": [
            "Training accuracy: 0.9418132611637348\n",
            "Test accuracy: 0.9352226720647774\n"
          ]
        }
      ]
    },
    {
      "cell_type": "markdown",
      "metadata": {
        "id": "_y7RNT1JutHU"
      },
      "source": [
        "KNN did better on training and the same on testing. Let's see how tunning n_neighbours affect model performance."
      ]
    },
    {
      "cell_type": "code",
      "metadata": {
        "colab": {
          "base_uri": "https://localhost:8080/"
        },
        "id": "yV5Si2EXfKJ2",
        "outputId": "233b5068-a69a-4f4c-b909-28fe486bb1c5"
      },
      "source": [
        "# Tunning n_neighbors\n",
        "knn_params = {'kneighborsclassifier__n_neighbors' : [1, 5, 20, 25, 30, 33, 40]}\n",
        "grid = GridSearchCV(pipe_knn, knn_params)\n",
        "grid.fit(X_train, y_train)\n",
        "# Check the optimal combinations of hyperparameters\n",
        "grid.best_params_"
      ],
      "execution_count": 93,
      "outputs": [
        {
          "output_type": "execute_result",
          "data": {
            "text/plain": [
              "{'kneighborsclassifier__n_neighbors': 20}"
            ]
          },
          "metadata": {},
          "execution_count": 93
        }
      ]
    },
    {
      "cell_type": "code",
      "metadata": {
        "colab": {
          "base_uri": "https://localhost:8080/"
        },
        "id": "3ri4gEG6fhZO",
        "outputId": "71edc9d6-1a2b-4f5f-c3af-9688a540f908"
      },
      "source": [
        "# KNN with n_neighbors = 20\n",
        "knn20 = KNeighborsClassifier(n_neighbors=20)\n",
        "\n",
        "pipe_knn20 = make_pipeline(scaler, knn20)\n",
        "\n",
        "pipe_knn20.fit(X_train, y_train)\n",
        "\n",
        "print('Training accuracy:', pipe_knn20.score(X_train, y_train))\n",
        "print('Test accuracy:', pipe_knn20.score(X_test, y_test))"
      ],
      "execution_count": 94,
      "outputs": [
        {
          "output_type": "stream",
          "name": "stdout",
          "text": [
            "Training accuracy: 0.9336941813261164\n",
            "Test accuracy: 0.9352226720647774\n"
          ]
        }
      ]
    },
    {
      "cell_type": "markdown",
      "metadata": {
        "id": "kOf2O8DQvgjE"
      },
      "source": [
        "With tunning n_neighbors model gives us the same results as Logistic Regression."
      ]
    },
    {
      "cell_type": "markdown",
      "metadata": {
        "id": "GzyklWcof7EC"
      },
      "source": [
        "**Bagged Tree**"
      ]
    },
    {
      "cell_type": "code",
      "metadata": {
        "colab": {
          "base_uri": "https://localhost:8080/"
        },
        "id": "y7s4pa8IinyN",
        "outputId": "a6832cf0-dcaf-40ad-de21-3f896916f220"
      },
      "source": [
        "# Bagged Tree\n",
        "bt = BaggingClassifier()\n",
        "\n",
        "pipe_bt = make_pipeline(scaler, bt)\n",
        "pipe_bt.fit(X_train, y_train)\n",
        "\n",
        "print('Training accuracy:', pipe_bt.score(X_train, y_train))\n",
        "print('Test accuracy:', pipe_bt.score(X_test, y_test))"
      ],
      "execution_count": 95,
      "outputs": [
        {
          "output_type": "stream",
          "name": "stdout",
          "text": [
            "Training accuracy: 0.986468200270636\n",
            "Test accuracy: 0.9392712550607287\n"
          ]
        }
      ]
    },
    {
      "cell_type": "markdown",
      "metadata": {
        "id": "HU2SRgenvr9k"
      },
      "source": [
        "Bagged Tree doing better on training and a little bit better on testing, however overfitting is higher. "
      ]
    },
    {
      "cell_type": "code",
      "metadata": {
        "colab": {
          "base_uri": "https://localhost:8080/"
        },
        "id": "mcwDlkWfhvKC",
        "outputId": "0d707293-a6ec-4bf5-db45-ed2935566de8"
      },
      "source": [
        "bt.get_params()"
      ],
      "execution_count": 96,
      "outputs": [
        {
          "output_type": "execute_result",
          "data": {
            "text/plain": [
              "{'base_estimator': None,\n",
              " 'bootstrap': True,\n",
              " 'bootstrap_features': False,\n",
              " 'max_features': 1.0,\n",
              " 'max_samples': 1.0,\n",
              " 'n_estimators': 10,\n",
              " 'n_jobs': None,\n",
              " 'oob_score': False,\n",
              " 'random_state': None,\n",
              " 'verbose': 0,\n",
              " 'warm_start': False}"
            ]
          },
          "metadata": {},
          "execution_count": 96
        }
      ]
    },
    {
      "cell_type": "code",
      "metadata": {
        "id": "kUXzPLnmfz2z"
      },
      "source": [
        "bt_params = { 'n_estimators': [5, 10, 20, 25],\n",
        "              'max_features': [1.0, 2.0, 3.0, 5.0]}\n",
        "grid1 = GridSearchCV(bt, bt_params)\n",
        "grid1.fit(X_train, y_train)\n"
      ],
      "execution_count": null,
      "outputs": []
    },
    {
      "cell_type": "code",
      "metadata": {
        "colab": {
          "base_uri": "https://localhost:8080/"
        },
        "id": "HwzJHpexjYpH",
        "outputId": "f317a3e9-4e30-42b3-bfee-8252942b8bbb"
      },
      "source": [
        "# Check the optimal combinations of hyperparameters\n",
        "grid1.best_params_"
      ],
      "execution_count": 98,
      "outputs": [
        {
          "output_type": "execute_result",
          "data": {
            "text/plain": [
              "{'max_features': 1.0, 'n_estimators': 20}"
            ]
          },
          "metadata": {},
          "execution_count": 98
        }
      ]
    },
    {
      "cell_type": "code",
      "metadata": {
        "colab": {
          "base_uri": "https://localhost:8080/"
        },
        "id": "dmA_oB9Jjc3B",
        "outputId": "140d1beb-c3f8-42cc-e7cf-8baea7fbdbd0"
      },
      "source": [
        "# Bagged Tree with tuning\n",
        "bt_tuned = BaggingClassifier(max_features=1.0, n_estimators=25)\n",
        "\n",
        "pipe_bt_tuned = make_pipeline(scaler, bt_tuned)\n",
        "pipe_bt_tuned.fit(X_train, y_train)\n",
        "\n",
        "print('Training accuracy:', pipe_bt_tuned.score(X_train, y_train))\n",
        "print('Test accuracy:', pipe_bt_tuned.score(X_test, y_test))"
      ],
      "execution_count": 99,
      "outputs": [
        {
          "output_type": "stream",
          "name": "stdout",
          "text": [
            "Training accuracy: 0.9972936400541272\n",
            "Test accuracy: 0.9433198380566802\n"
          ]
        }
      ]
    },
    {
      "cell_type": "markdown",
      "metadata": {
        "id": "bNxN5Gjjj1aB"
      },
      "source": [
        "Still higher overfitting, than KNN and tunning actually led to decrease of test accuracy."
      ]
    },
    {
      "cell_type": "markdown",
      "metadata": {
        "id": "kgKFAbHrkUQR"
      },
      "source": [
        "**Random Forest**"
      ]
    },
    {
      "cell_type": "code",
      "metadata": {
        "colab": {
          "base_uri": "https://localhost:8080/"
        },
        "id": "kRS9dp-SjJGn",
        "outputId": "aa5fd6f3-a5f2-45c1-d120-941f39745d2e"
      },
      "source": [
        "# Random Forest\n",
        "rf = RandomForestClassifier()\n",
        "\n",
        "pipe_rf = make_pipeline(scaler, rf)\n",
        "pipe_rf.fit(X_train, y_train)\n",
        "\n",
        "print('Training accuracy:', pipe_rf.score(X_train, y_train))\n",
        "print('Test accuracy:', pipe_rf.score(X_test, y_test))"
      ],
      "execution_count": 100,
      "outputs": [
        {
          "output_type": "stream",
          "name": "stdout",
          "text": [
            "Training accuracy: 0.9986468200270636\n",
            "Test accuracy: 0.9433198380566802\n"
          ]
        }
      ]
    },
    {
      "cell_type": "code",
      "metadata": {
        "colab": {
          "base_uri": "https://localhost:8080/"
        },
        "id": "lAUqy9TNkXGW",
        "outputId": "ac283c68-060a-40af-ba4e-33366fa671dd"
      },
      "source": [
        "# Tunning\n",
        "rf.get_params()"
      ],
      "execution_count": 101,
      "outputs": [
        {
          "output_type": "execute_result",
          "data": {
            "text/plain": [
              "{'bootstrap': True,\n",
              " 'ccp_alpha': 0.0,\n",
              " 'class_weight': None,\n",
              " 'criterion': 'gini',\n",
              " 'max_depth': None,\n",
              " 'max_features': 'auto',\n",
              " 'max_leaf_nodes': None,\n",
              " 'max_samples': None,\n",
              " 'min_impurity_decrease': 0.0,\n",
              " 'min_impurity_split': None,\n",
              " 'min_samples_leaf': 1,\n",
              " 'min_samples_split': 2,\n",
              " 'min_weight_fraction_leaf': 0.0,\n",
              " 'n_estimators': 100,\n",
              " 'n_jobs': None,\n",
              " 'oob_score': False,\n",
              " 'random_state': None,\n",
              " 'verbose': 0,\n",
              " 'warm_start': False}"
            ]
          },
          "metadata": {},
          "execution_count": 101
        }
      ]
    },
    {
      "cell_type": "code",
      "metadata": {
        "colab": {
          "base_uri": "https://localhost:8080/"
        },
        "id": "m3gLkG2Xkgam",
        "outputId": "7bf74bb3-59bb-4f45-ed88-ad7708712f75"
      },
      "source": [
        "rf_params = { 'n_estimators': [5, 10, 20, 25, 50, 100]}\n",
        "\n",
        "grid2 = GridSearchCV(rf, rf_params)\n",
        "grid2.fit(X_train, y_train)"
      ],
      "execution_count": 102,
      "outputs": [
        {
          "output_type": "execute_result",
          "data": {
            "text/plain": [
              "GridSearchCV(cv=None, error_score=nan,\n",
              "             estimator=RandomForestClassifier(bootstrap=True, ccp_alpha=0.0,\n",
              "                                              class_weight=None,\n",
              "                                              criterion='gini', max_depth=None,\n",
              "                                              max_features='auto',\n",
              "                                              max_leaf_nodes=None,\n",
              "                                              max_samples=None,\n",
              "                                              min_impurity_decrease=0.0,\n",
              "                                              min_impurity_split=None,\n",
              "                                              min_samples_leaf=1,\n",
              "                                              min_samples_split=2,\n",
              "                                              min_weight_fraction_leaf=0.0,\n",
              "                                              n_estimators=100, n_jobs=None,\n",
              "                                              oob_score=False,\n",
              "                                              random_state=None, verbose=0,\n",
              "                                              warm_start=False),\n",
              "             iid='deprecated', n_jobs=None,\n",
              "             param_grid={'n_estimators': [5, 10, 20, 25, 50, 100]},\n",
              "             pre_dispatch='2*n_jobs', refit=True, return_train_score=False,\n",
              "             scoring=None, verbose=0)"
            ]
          },
          "metadata": {},
          "execution_count": 102
        }
      ]
    },
    {
      "cell_type": "code",
      "metadata": {
        "colab": {
          "base_uri": "https://localhost:8080/"
        },
        "id": "MDFrokQUk2oL",
        "outputId": "eb9d2cdd-588a-4688-e856-8ac505676e43"
      },
      "source": [
        "# Check the optimal combinations of hyperparameters\n",
        "grid1.best_params_"
      ],
      "execution_count": 103,
      "outputs": [
        {
          "output_type": "execute_result",
          "data": {
            "text/plain": [
              "{'max_features': 1.0, 'n_estimators': 20}"
            ]
          },
          "metadata": {},
          "execution_count": 103
        }
      ]
    },
    {
      "cell_type": "code",
      "metadata": {
        "colab": {
          "base_uri": "https://localhost:8080/"
        },
        "id": "zKBIso1hk6V1",
        "outputId": "4d15c3ec-4c0e-4fe2-e4f8-fac15086137a"
      },
      "source": [
        "# Random Forest\n",
        "rf_tuned = RandomForestClassifier(n_estimators=25)\n",
        "\n",
        "pipe_rf_tuned = make_pipeline(scaler, rf)\n",
        "pipe_rf_tuned.fit(X_train, y_train)\n",
        "\n",
        "print('Training accuracy:', pipe_rf_tuned.score(X_train, y_train))\n",
        "print('Test accuracy:', pipe_rf_tuned.score(X_test, y_test))"
      ],
      "execution_count": 104,
      "outputs": [
        {
          "output_type": "stream",
          "name": "stdout",
          "text": [
            "Training accuracy: 1.0\n",
            "Test accuracy: 0.9392712550607287\n"
          ]
        }
      ]
    },
    {
      "cell_type": "markdown",
      "metadata": {
        "id": "eMKWvybLwPxL"
      },
      "source": [
        "Random Forest model doing ther best on training, however test accuracy lower then LogRegression or KNN and model is pretty overfit."
      ]
    },
    {
      "cell_type": "markdown",
      "metadata": {
        "id": "8Azf6EKswbhb"
      },
      "source": [
        "Based on scores above, I would say Logistic Regression is the best option, since scores are pretty good and overfitting is minimal."
      ]
    },
    {
      "cell_type": "markdown",
      "metadata": {
        "id": "Ctd4JwjnliPS"
      },
      "source": [
        "## Unsupervised learning"
      ]
    },
    {
      "cell_type": "markdown",
      "metadata": {
        "id": "9kY5tVPzw0uc"
      },
      "source": [
        "Now, I want to see how unsupervised model will perform on my data. I will try to cluster some of the colums in order to group my videous and visualize correlation. As we define earlier, number of tags and day of the week has the most impact on number of likes, therefore I will use those to perform unsupervised learning."
      ]
    },
    {
      "cell_type": "code",
      "metadata": {
        "colab": {
          "base_uri": "https://localhost:8080/",
          "height": 203
        },
        "id": "Gq4QSrEolaXU",
        "outputId": "8cc0421a-fa11-45fa-faa9-835cc7fd4534"
      },
      "source": [
        "df.head()"
      ],
      "execution_count": 105,
      "outputs": [
        {
          "output_type": "execute_result",
          "data": {
            "text/html": [
              "<div>\n",
              "<style scoped>\n",
              "    .dataframe tbody tr th:only-of-type {\n",
              "        vertical-align: middle;\n",
              "    }\n",
              "\n",
              "    .dataframe tbody tr th {\n",
              "        vertical-align: top;\n",
              "    }\n",
              "\n",
              "    .dataframe thead th {\n",
              "        text-align: right;\n",
              "    }\n",
              "</style>\n",
              "<table border=\"1\" class=\"dataframe\">\n",
              "  <thead>\n",
              "    <tr style=\"text-align: right;\">\n",
              "      <th></th>\n",
              "      <th>comp_id</th>\n",
              "      <th>embed</th>\n",
              "      <th>ratio</th>\n",
              "      <th>duration</th>\n",
              "      <th>language</th>\n",
              "      <th>partner</th>\n",
              "      <th>n_likes</th>\n",
              "      <th>n_tags</th>\n",
              "      <th>n_formats</th>\n",
              "      <th>dayofweek</th>\n",
              "      <th>hour</th>\n",
              "    </tr>\n",
              "  </thead>\n",
              "  <tbody>\n",
              "    <tr>\n",
              "      <th>0</th>\n",
              "      <td>3001</td>\n",
              "      <td>1</td>\n",
              "      <td>1.33333</td>\n",
              "      <td>1675</td>\n",
              "      <td>2</td>\n",
              "      <td>0</td>\n",
              "      <td>0</td>\n",
              "      <td>10</td>\n",
              "      <td>2</td>\n",
              "      <td>2</td>\n",
              "      <td>3</td>\n",
              "    </tr>\n",
              "    <tr>\n",
              "      <th>1</th>\n",
              "      <td>3002</td>\n",
              "      <td>1</td>\n",
              "      <td>1.33333</td>\n",
              "      <td>1479</td>\n",
              "      <td>2</td>\n",
              "      <td>0</td>\n",
              "      <td>0</td>\n",
              "      <td>10</td>\n",
              "      <td>2</td>\n",
              "      <td>2</td>\n",
              "      <td>3</td>\n",
              "    </tr>\n",
              "    <tr>\n",
              "      <th>2</th>\n",
              "      <td>3003</td>\n",
              "      <td>1</td>\n",
              "      <td>1.33333</td>\n",
              "      <td>1505</td>\n",
              "      <td>2</td>\n",
              "      <td>0</td>\n",
              "      <td>0</td>\n",
              "      <td>10</td>\n",
              "      <td>2</td>\n",
              "      <td>2</td>\n",
              "      <td>3</td>\n",
              "    </tr>\n",
              "    <tr>\n",
              "      <th>3</th>\n",
              "      <td>3004</td>\n",
              "      <td>1</td>\n",
              "      <td>1.77778</td>\n",
              "      <td>50</td>\n",
              "      <td>2</td>\n",
              "      <td>1</td>\n",
              "      <td>1</td>\n",
              "      <td>6</td>\n",
              "      <td>5</td>\n",
              "      <td>2</td>\n",
              "      <td>3</td>\n",
              "    </tr>\n",
              "    <tr>\n",
              "      <th>4</th>\n",
              "      <td>3005</td>\n",
              "      <td>1</td>\n",
              "      <td>1.33333</td>\n",
              "      <td>1543</td>\n",
              "      <td>2</td>\n",
              "      <td>0</td>\n",
              "      <td>0</td>\n",
              "      <td>6</td>\n",
              "      <td>2</td>\n",
              "      <td>2</td>\n",
              "      <td>3</td>\n",
              "    </tr>\n",
              "  </tbody>\n",
              "</table>\n",
              "</div>"
            ],
            "text/plain": [
              "   comp_id  embed    ratio  duration  ...  n_tags  n_formats  dayofweek  hour\n",
              "0     3001      1  1.33333      1675  ...      10          2          2     3\n",
              "1     3002      1  1.33333      1479  ...      10          2          2     3\n",
              "2     3003      1  1.33333      1505  ...      10          2          2     3\n",
              "3     3004      1  1.77778        50  ...       6          5          2     3\n",
              "4     3005      1  1.33333      1543  ...       6          2          2     3\n",
              "\n",
              "[5 rows x 11 columns]"
            ]
          },
          "metadata": {},
          "execution_count": 105
        }
      ]
    },
    {
      "cell_type": "code",
      "metadata": {
        "id": "JyjfoefvlmA6",
        "colab": {
          "base_uri": "https://localhost:8080/",
          "height": 1000
        },
        "outputId": "42c14148-ce8d-4470-c66c-a5d9d6359f7a"
      },
      "source": [
        "### STILL TO WORK ON \n",
        "\n",
        "# define the columns we want to work with\n",
        "x1 = df.loc[:, ['n_tags', 'dayofweek']].values\n",
        "\n",
        "# scale the data\n",
        "scaler = StandardScaler()\n",
        "scaled_x1 = scaler.fit_transform(x1)\n",
        "\n",
        "# Instantiate KMeans\n",
        "dbs = DBSCAN(eps = 0.5, min_samples = 5).fit(scaled_x1)\n",
        "dbs.fit(scaled_x1)\n",
        "\n",
        "df['cluster1'] = dbs.labels_\n",
        "\n",
        "# Visualize the clusters\n",
        "plt.scatter(df['n_tags'], df['dayofweek'], c = df['cluster1'])\n",
        "plt.xlabel('n_tags')\n",
        "plt.ylabel('dayofweek')\n",
        "plt.title('Clusters of groups of videos');"
      ],
      "execution_count": 106,
      "outputs": [
        {
          "output_type": "display_data",
          "data": {
            "image/png": "[encoded data removed]",
            "text/plain": [
              "<Figure size 1080x1440 with 1 Axes>"
            ]
          },
          "metadata": {}
        }
      ]
    }
  ]
}